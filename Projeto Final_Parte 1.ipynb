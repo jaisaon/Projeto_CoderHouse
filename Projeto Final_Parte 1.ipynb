{
 "cells": [
  {
   "cell_type": "markdown",
   "metadata": {},
   "source": [
    "## Projeto Final - Etapa 1"
   ]
  },
  {
   "cell_type": "markdown",
   "metadata": {},
   "source": [
    "Aluna: Jaisa O. Nichterwitz"
   ]
  },
  {
   "cell_type": "code",
   "execution_count": 16,
   "metadata": {},
   "outputs": [
    {
     "name": "stdout",
     "output_type": "stream",
     "text": [
      "Requirement already satisfied: plyer in c:\\users\\jaisa.orsolin_ifood\\appdata\\local\\programs\\python\\python312\\lib\\site-packages (2.1.0)Note: you may need to restart the kernel to use updated packages.\n",
      "\n",
      "Requirement already satisfied: tqdm in c:\\users\\jaisa.orsolin_ifood\\appdata\\local\\programs\\python\\python312\\lib\\site-packages (4.66.5)Note: you may need to restart the kernel to use updated packages.\n",
      "\n",
      "Requirement already satisfied: colorama in c:\\users\\jaisa.orsolin_ifood\\appdata\\roaming\\python\\python312\\site-packages (from tqdm) (0.4.6)\n",
      "Requirement already satisfied: requests in c:\\users\\jaisa.orsolin_ifood\\appdata\\local\\programs\\python\\python312\\lib\\site-packages (2.32.3)\n",
      "Requirement already satisfied: charset-normalizer<4,>=2 in c:\\users\\jaisa.orsolin_ifood\\appdata\\local\\programs\\python\\python312\\lib\\site-packages (from requests) (3.4.0)\n",
      "Requirement already satisfied: idna<4,>=2.5 in c:\\users\\jaisa.orsolin_ifood\\appdata\\local\\programs\\python\\python312\\lib\\site-packages (from requests) (3.10)\n",
      "Requirement already satisfied: urllib3<3,>=1.21.1 in c:\\users\\jaisa.orsolin_ifood\\appdata\\local\\programs\\python\\python312\\lib\\site-packages (from requests) (2.2.3)\n",
      "Requirement already satisfied: certifi>=2017.4.17 in c:\\users\\jaisa.orsolin_ifood\\appdata\\local\\programs\\python\\python312\\lib\\site-packages (from requests) (2024.8.30)\n",
      "Note: you may need to restart the kernel to use updated packages.\n"
     ]
    }
   ],
   "source": [
    "%pip install plyer\n",
    "%pip install tqdm\n",
    "%pip install requests"
   ]
  },
  {
   "cell_type": "code",
   "execution_count": 17,
   "metadata": {},
   "outputs": [],
   "source": [
    "## importação das bibliotecas necessárias para o projeto :)\n",
    "\n",
    "import pandas as pd\n",
    "import numpy as np\n",
    "import sqlite3\n",
    "from datetime import datetime\n",
    "from plyer import notification \n",
    "import requests\n",
    "from tqdm import tqdm"
   ]
  },
  {
   "cell_type": "markdown",
   "metadata": {},
   "source": [
    "Função Alerta utilizando a aula de Fundamentos de programação III\n"
   ]
  },
  {
   "cell_type": "code",
   "execution_count": 18,
   "metadata": {},
   "outputs": [],
   "source": [
    "# Função de alerta por nível conforme aprendido na aula 4:\n",
    "\n",
    "def alerta(nivel, base, etapa, erro=\"\"):\n",
    "    '''\n",
    "        Alerta de falha de carregamento de dados\n",
    "    '''\n",
    "    now = str(datetime.now())\n",
    "    msg = f\"Falha no carregamento da base {base} na etapa {etapa}.\\n{now}\\n{erro}\"\n",
    "\n",
    "    # Determinar título do alerta baseado no nível\n",
    "    if nivel == 1:\n",
    "        title = 'ATENÇÃO: Alerta Baixo'\n",
    "    elif nivel == 2:\n",
    "        title = 'ATENÇÃO: Alerta Médio'\n",
    "    elif nivel == 3:\n",
    "        title = 'ATENÇÃO: Alerta Alto'\n",
    "    else:\n",
    "        print(f\"Nível {nivel} não disponível!\")\n",
    "        return\n",
    "\n",
    "    # Notificação\n",
    "    notification.notify(\n",
    "        title=title,\n",
    "        message=msg,\n",
    "        app_name='alerta',\n",
    "        timeout=10\n",
    "    )"
   ]
  },
  {
   "cell_type": "markdown",
   "metadata": {},
   "source": [
    "Banco de Dados"
   ]
  },
  {
   "cell_type": "code",
   "execution_count": 19,
   "metadata": {},
   "outputs": [],
   "source": [
    "def tabelas_bd():\n",
    "    '''\n",
    "        Retorna um dataframe com as tabelas do banco de dados.\n",
    "    '''\n",
    "    conn = sqlite3.connect('restcountries.db')\n",
    "    query = \"SELECT name FROM sqlite_master WHERE type='table'\"\n",
    "    schema = pd.read_sql_query(query, conn)\n",
    "    conn.close()\n",
    "    return schema\n",
    "\n",
    "def salva_bd(df, nome_tabela):\n",
    "    '''\n",
    "        Salva o dataframe na tabela especificada.\n",
    "    '''\n",
    "    conn = sqlite3.connect('restcountries.db')\n",
    "    df.to_sql(nome_tabela, conn, if_exists='replace', index=False)\n",
    "    conn.close()\n",
    "    return True\n",
    "\n",
    "def carrega_bd(nome_tabela):\n",
    "    '''\n",
    "        Carrega a tabela especificada em um dataframe.\n",
    "    '''\n",
    "    conn = sqlite3.connect('restcountries.db')\n",
    "    query = f\"SELECT * FROM {nome_tabela}\"\n",
    "    df = pd.read_sql(query, conn)\n",
    "    conn.close()\n",
    "    return df\n"
   ]
  },
  {
   "cell_type": "markdown",
   "metadata": {},
   "source": [
    "Extração de Tabelas"
   ]
  },
  {
   "cell_type": "code",
   "execution_count": 20,
   "metadata": {},
   "outputs": [],
   "source": [
    "def get_json_api(url):\n",
    "    '''\n",
    "        Request GET url e retorna json de saida\n",
    "    '''\n",
    "\n",
    "    response = requests.get(url)\n",
    "\n",
    "    if response.status_code == 200:\n",
    "        data_json = response.json()\n",
    "        return data_json\n",
    "    \n",
    "    # Erro\n",
    "    raise Exception(f\"erro request,  {response.status_code} - {url}\\n{response.text}\")\n"
   ]
  },
  {
   "cell_type": "markdown",
   "metadata": {},
   "source": [
    "Tabela 1: Países"
   ]
  },
  {
   "cell_type": "code",
   "execution_count": 21,
   "metadata": {},
   "outputs": [
    {
     "name": "stdout",
     "output_type": "stream",
     "text": [
      "Tabela de Países:\n",
      "            name            capital  population\n",
      "0  South Georgia  King Edward Point          30\n",
      "1        Grenada       St. George's      112519\n",
      "2    Switzerland               Bern     8654622\n",
      "3   Sierra Leone           Freetown     7976985\n",
      "4        Hungary           Budapest     9749763\n"
     ]
    }
   ],
   "source": [
    "def get_base_countries():\n",
    "    '''\n",
    "        Extrai dados completos e retorna um DataFrame com nome, capital e população dos países.\n",
    "    '''\n",
    "    # URL\n",
    "    url = \"https://restcountries.com/v3.1/all\"\n",
    "    \n",
    "    # Coleta dados JSON da API\n",
    "    json_data = get_json_api(url)\n",
    "    \n",
    "    # Cria dataframe com as colunas (nome, capital, população)\n",
    "    df_countries = pd.DataFrame({\n",
    "        \"name\": [country.get('name', {}).get('common', 'N/A') for country in json_data],\n",
    "        \"capital\": [country.get('capital', ['N/A'])[0] for country in json_data],\n",
    "        \"population\": [country.get('population', 'N/A') for country in json_data]\n",
    "    })\n",
    "    \n",
    "    return df_countries\n",
    "\n",
    "# Amostra da tabela\n",
    "df_countries = get_base_countries()\n",
    "print(\"Tabela de Países:\")\n",
    "print(df_countries.head())\n"
   ]
  },
  {
   "cell_type": "markdown",
   "metadata": {},
   "source": [
    "Tabela 2: Regiões"
   ]
  },
  {
   "cell_type": "code",
   "execution_count": 22,
   "metadata": {},
   "outputs": [
    {
     "name": "stdout",
     "output_type": "stream",
     "text": [
      "Tabela de Regiões e Sub-regiões:\n",
      "            name     region       subregion\n",
      "0  South Georgia  Antarctic             N/A\n",
      "1        Grenada   Americas       Caribbean\n",
      "2    Switzerland     Europe  Western Europe\n",
      "3   Sierra Leone     Africa  Western Africa\n",
      "4        Hungary     Europe  Central Europe \n",
      "\n"
     ]
    }
   ],
   "source": [
    "# Função para extrair dados da tabela de regiões e sub-regiões\n",
    "def get_base_regions():\n",
    "    '''\n",
    "        Extrai dados completos e retorna um DataFrame com a região e sub-região de cada país.\n",
    "    '''\n",
    "    url = \"https://restcountries.com/v3.1/all\"\n",
    "    json_data = get_json_api(url)\n",
    "    \n",
    "    df_regions = pd.DataFrame({\n",
    "        \"name\": [country.get('name', {}).get('common', 'N/A') for country in json_data],\n",
    "        \"region\": [country.get('region', 'N/A') for country in json_data],\n",
    "        \"subregion\": [country.get('subregion', 'N/A') for country in json_data]\n",
    "    })\n",
    "    \n",
    "    return df_regions\n",
    "\n",
    "\n",
    "# Amostra da tabela\n",
    "df_regions = get_base_regions()\n",
    "print(\"Tabela de Regiões e Sub-regiões:\")\n",
    "print(df_regions.head(), \"\\n\")"
   ]
  },
  {
   "cell_type": "markdown",
   "metadata": {},
   "source": [
    "Tabela 3: Idiomas "
   ]
  },
  {
   "cell_type": "code",
   "execution_count": 23,
   "metadata": {},
   "outputs": [
    {
     "name": "stdout",
     "output_type": "stream",
     "text": [
      "Tabela de Idiomas Oficiais:\n",
      "            name                               languages\n",
      "0  South Georgia                                 English\n",
      "1        Grenada                                 English\n",
      "2    Switzerland  French, Swiss German, Italian, Romansh\n",
      "3   Sierra Leone                                 English\n",
      "4        Hungary                               Hungarian\n"
     ]
    }
   ],
   "source": [
    "# Função para extrair dados da tabela de idiomas oficiais\n",
    "def get_base_languages():\n",
    "    '''\n",
    "        Extrai dados completos e retorna um DataFrame com o idioma oficial de cada país.\n",
    "    '''\n",
    "    url = \"https://restcountries.com/v3.1/all\"\n",
    "    json_data = get_json_api(url)\n",
    "    \n",
    "    df_languages = pd.DataFrame({\n",
    "        \"name\": [country.get('name', {}).get('common', 'N/A') for country in json_data],\n",
    "        \"languages\": [', '.join(country.get('languages', {}).values()) if 'languages' in country else 'N/A' for country in json_data]\n",
    "    })\n",
    "    \n",
    "    return df_languages\n",
    "\n",
    "df_languages = get_base_languages()\n",
    "print(\"Tabela de Idiomas Oficiais:\")\n",
    "print(df_languages.head())"
   ]
  },
  {
   "cell_type": "markdown",
   "metadata": {},
   "source": [
    "Extração completa"
   ]
  },
  {
   "cell_type": "code",
   "execution_count": 24,
   "metadata": {},
   "outputs": [],
   "source": [
    "def etapa_extracao():\n",
    "    \n",
    "    #################################################\n",
    "    print(\"  > Base de Países (Nome, Capital, População):\\n\")\n",
    "    try:\n",
    "        df_countries = get_base_countries()\n",
    "        salva_bd(df_countries, \"countries\")\n",
    "    except Exception as e:\n",
    "        alerta(nivel=3, \n",
    "               base=\"countries\", \n",
    "               etapa=\"EXTRACAO\", \n",
    "               erro=e)\n",
    "    \n",
    "    #################################################\n",
    "    print(\"  > Base de Regiões e Sub-Regiões:\\n\")\n",
    "    try:\n",
    "        df_regions = get_base_regions()\n",
    "        salva_bd(df_regions, \"regions\")\n",
    "    except Exception as e:\n",
    "        alerta(nivel=3, \n",
    "               base=\"regions\", \n",
    "               etapa=\"EXTRACAO\", \n",
    "               erro=e)\n",
    "        \n",
    "    #################################################\n",
    "    print(\"  > Base de Idiomas Oficiais:\\n\")\n",
    "    try:\n",
    "        df_languages = get_base_languages()\n",
    "        salva_bd(df_languages, \"languages\")\n",
    "    except Exception as e:\n",
    "        alerta(nivel=3, \n",
    "               base=\"languages\", \n",
    "               etapa=\"EXTRACAO\", \n",
    "               erro=e)\n"
   ]
  }
 ],
 "metadata": {
  "kernelspec": {
   "display_name": "Python 3",
   "language": "python",
   "name": "python3"
  },
  "language_info": {
   "codemirror_mode": {
    "name": "ipython",
    "version": 3
   },
   "file_extension": ".py",
   "mimetype": "text/x-python",
   "name": "python",
   "nbconvert_exporter": "python",
   "pygments_lexer": "ipython3",
   "version": "3.12.6"
  }
 },
 "nbformat": 4,
 "nbformat_minor": 2
}
